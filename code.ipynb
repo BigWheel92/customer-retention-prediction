{
  "nbformat": 4,
  "nbformat_minor": 0,
  "metadata": {
    "colab": {
      "name": "code",
      "provenance": [],
      "collapsed_sections": []
    },
    "kernelspec": {
      "name": "python3",
      "display_name": "Python 3"
    },
    "language_info": {
      "name": "python"
    }
  },
  "cells": [
    {
      "cell_type": "code",
      "metadata": {
        "id": "Ku-9_iWoUs2K",
        "colab": {
          "base_uri": "https://localhost:8080/"
        },
        "outputId": "ed65674c-0ff8-4257-e5c6-1ec9e61ee4ba"
      },
      "source": [
        "#reading the csv file\n",
        "import pandas as pd\n",
        "\n",
        "df = pd.read_csv('bank_customer_data.csv')\n",
        "print(df)"
      ],
      "execution_count": null,
      "outputs": [
        {
          "output_type": "stream",
          "name": "stdout",
          "text": [
            "      RowNumber  CustomerId    Surname  ...  IsActiveMember EstimatedSalary Exited\n",
            "0             1    15634602   Hargrave  ...               1       101348.88      1\n",
            "1             2    15647311       Hill  ...               1       112542.58      0\n",
            "2             3    15619304       Onio  ...               0       113931.57      1\n",
            "3             4    15701354       Boni  ...               0        93826.63      0\n",
            "4             5    15737888   Mitchell  ...               1        79084.10      0\n",
            "...         ...         ...        ...  ...             ...             ...    ...\n",
            "9995       9996    15606229   Obijiaku  ...               0        96270.64      0\n",
            "9996       9997    15569892  Johnstone  ...               1       101699.77      0\n",
            "9997       9998    15584532        Liu  ...               1        42085.58      1\n",
            "9998       9999    15682355  Sabbatini  ...               0        92888.52      1\n",
            "9999      10000    15628319     Walker  ...               0        38190.78      0\n",
            "\n",
            "[10000 rows x 14 columns]\n"
          ]
        }
      ]
    },
    {
      "cell_type": "code",
      "metadata": {
        "colab": {
          "base_uri": "https://localhost:8080/"
        },
        "id": "_3mQTmlAWMkw",
        "outputId": "ca39a391-25d5-4ad3-f1ae-f15a8fe69d6c"
      },
      "source": [
        "#performing EDA (exploratory data analysis)#\n",
        "import pandas as pd\n",
        "\n",
        "def PrintDataStats(df, numericAttributes, nominalAttributes, binaryAttributes):\n",
        "  \n",
        "  for attributeName in numericAttributes:\n",
        "    print(\"##########Stats of \"+attributeName+\"##############\")\n",
        "    print(\"Attribute Type: Numeric\")\n",
        "    print(\"Mean: \"+str(df[attributeName].mean()) )\n",
        "    print(\"Max: \"+str(df[attributeName].max()))\n",
        "    print(\"Min: \"+ str(df[attributeName].min()))\n",
        "    print(\"Standard Deviation: \"+str(df[attributeName].std()))\n",
        "    print(\"Variance: \"+str(df[attributeName].var()))\n",
        "    print(\"\")\n",
        "\n",
        "  for attributeName in nominalAttributes:\n",
        "    print(\"##########Stats of \"+attributeName+\"##############\")\n",
        "    print(\"Attribute Type: Nominal\")\n",
        "    uniqueValues=df[attributeName].unique()\n",
        "    print(\"Unique Values: \")\n",
        "    print(uniqueValues);\n",
        "    print(df[attributeName].value_counts())\n",
        "    print(\"Mode: \"+df[attributeName].mode().values)\n",
        "    print()\n",
        "\n",
        "  for attributeName in binaryAttributes:\n",
        "    print(\"##########Stats of \"+attributeName+\"##############\")\n",
        "    print(\"Attribute Type: Binary\")\n",
        "    uniqueValues=df[attributeName].unique()\n",
        "    print(\"Unique Values: \")\n",
        "    print(uniqueValues);\n",
        "    print(df[attributeName].value_counts())\n",
        "    print(\"Mode: \"+str(df[attributeName].mode().values))\n",
        "    print()\n",
        "\n",
        "PrintDataStats(df, \n",
        "               [\"CreditScore\",\"Age\",\"Balance\", \"Tenure\", \"NumOfProducts\", \"EstimatedSalary\"], \n",
        "               [\"Surname\", \"Geography\"], \n",
        "               [\"Gender\", \"HasCrCard\", \"IsActiveMember\", \"Exited\"])"
      ],
      "execution_count": null,
      "outputs": [
        {
          "output_type": "stream",
          "name": "stdout",
          "text": [
            "##########Stats of CreditScore##############\n",
            "Attribute Type: Numeric\n",
            "Mean: 650.5288\n",
            "Max: 850\n",
            "Min: 350\n",
            "Standard Deviation: 96.65329873613061\n",
            "Variance: 9341.860156575705\n",
            "\n",
            "##########Stats of Age##############\n",
            "Attribute Type: Numeric\n",
            "Mean: 38.9218\n",
            "Max: 92\n",
            "Min: 18\n",
            "Standard Deviation: 10.487806451704591\n",
            "Variance: 109.99408416841645\n",
            "\n",
            "##########Stats of Balance##############\n",
            "Attribute Type: Numeric\n",
            "Mean: 76485.88928799961\n",
            "Max: 250898.09\n",
            "Min: 0.0\n",
            "Standard Deviation: 62397.40520238623\n",
            "Variance: 3893436175.9907765\n",
            "\n",
            "##########Stats of Tenure##############\n",
            "Attribute Type: Numeric\n",
            "Mean: 5.0128\n",
            "Max: 10\n",
            "Min: 0\n",
            "Standard Deviation: 2.892174377049708\n",
            "Variance: 8.364672627262866\n",
            "\n",
            "##########Stats of NumOfProducts##############\n",
            "Attribute Type: Numeric\n",
            "Mean: 1.5302\n",
            "Max: 4\n",
            "Min: 1\n",
            "Standard Deviation: 0.5816543579989936\n",
            "Variance: 0.3383217921792214\n",
            "\n",
            "##########Stats of EstimatedSalary##############\n",
            "Attribute Type: Numeric\n",
            "Mean: 100090.2398809998\n",
            "Max: 199992.48\n",
            "Min: 11.58\n",
            "Standard Deviation: 57510.49281769822\n",
            "Variance: 3307456784.134519\n",
            "\n",
            "##########Stats of Surname##############\n",
            "Attribute Type: Nominal\n",
            "Unique Values: \n",
            "['Hargrave' 'Hill' 'Onio' ... 'Kashiwagi' 'Aldridge' 'Burbidge']\n",
            "Smith          32\n",
            "Martin         29\n",
            "Scott          29\n",
            "Walker         28\n",
            "Brown          26\n",
            "               ..\n",
            "Kistler         1\n",
            "Micklem         1\n",
            "Gearhart        1\n",
            "Higinbotham     1\n",
            "Weatherford     1\n",
            "Name: Surname, Length: 2932, dtype: int64\n",
            "['Mode: Smith']\n",
            "\n",
            "##########Stats of Geography##############\n",
            "Attribute Type: Nominal\n",
            "Unique Values: \n",
            "['France' 'Spain' 'Germany']\n",
            "France     5014\n",
            "Germany    2509\n",
            "Spain      2477\n",
            "Name: Geography, dtype: int64\n",
            "['Mode: France']\n",
            "\n",
            "##########Stats of Gender##############\n",
            "Attribute Type: Binary\n",
            "Unique Values: \n",
            "['Female' 'Male']\n",
            "Male      5457\n",
            "Female    4543\n",
            "Name: Gender, dtype: int64\n",
            "Mode: ['Male']\n",
            "\n",
            "##########Stats of HasCrCard##############\n",
            "Attribute Type: Binary\n",
            "Unique Values: \n",
            "[1 0]\n",
            "1    7055\n",
            "0    2945\n",
            "Name: HasCrCard, dtype: int64\n",
            "Mode: [1]\n",
            "\n",
            "##########Stats of IsActiveMember##############\n",
            "Attribute Type: Binary\n",
            "Unique Values: \n",
            "[1 0]\n",
            "1    5151\n",
            "0    4849\n",
            "Name: IsActiveMember, dtype: int64\n",
            "Mode: [1]\n",
            "\n",
            "##########Stats of Exited##############\n",
            "Attribute Type: Binary\n",
            "Unique Values: \n",
            "[1 0]\n",
            "0    7963\n",
            "1    2037\n",
            "Name: Exited, dtype: int64\n",
            "Mode: [0]\n",
            "\n"
          ]
        }
      ]
    },
    {
      "cell_type": "code",
      "metadata": {
        "colab": {
          "base_uri": "https://localhost:8080/"
        },
        "id": "wh5qgoM9Zvys",
        "outputId": "7ade5912-76d1-4a75-f1d7-452c6c2897d5"
      },
      "source": [
        "#removing less useful attributes because these attributes do not help in finding any pattern\n",
        "df = df.drop(columns={\"RowNumber\", \"CustomerId\", \"Surname\"})\n",
        "print(df)"
      ],
      "execution_count": null,
      "outputs": [
        {
          "output_type": "stream",
          "name": "stdout",
          "text": [
            "      CreditScore Geography  Gender  ...  IsActiveMember  EstimatedSalary  Exited\n",
            "0             619    France  Female  ...               1        101348.88       1\n",
            "1             608     Spain  Female  ...               1        112542.58       0\n",
            "2             502    France  Female  ...               0        113931.57       1\n",
            "3             699    France  Female  ...               0         93826.63       0\n",
            "4             850     Spain  Female  ...               1         79084.10       0\n",
            "...           ...       ...     ...  ...             ...              ...     ...\n",
            "9995          771    France    Male  ...               0         96270.64       0\n",
            "9996          516    France    Male  ...               1        101699.77       0\n",
            "9997          709    France  Female  ...               1         42085.58       1\n",
            "9998          772   Germany    Male  ...               0         92888.52       1\n",
            "9999          792    France  Female  ...               0         38190.78       0\n",
            "\n",
            "[10000 rows x 11 columns]\n"
          ]
        }
      ]
    },
    {
      "cell_type": "code",
      "metadata": {
        "id": "xVCntoLiadZm"
      },
      "source": [
        "#converting nominal attributes into numeric attributes\n",
        "\n",
        "df[\"GeographyFrance\"]=0\n",
        "df['GeographyFrance']= df['Geography'].apply(lambda x: 1 if (x == 'France') else 0) \n",
        "\n",
        "df[\"GeographySpain\"]=0\n",
        "df['GeographySpain']= df['Geography'].apply(lambda x: 1 if (x == 'Spain') else 0) \n",
        "\n",
        "df[\"GeographyGermany\"]=0\n",
        "df['GeographyGermany']= df['Geography'].apply(lambda x: 1 if (x == 'Germany') else 0) \n",
        "\n",
        "df[\"Gender\"]= df[\"Gender\"].apply(lambda x: 1 if (x==\"Male\") else 0)\n"
      ],
      "execution_count": null,
      "outputs": []
    },
    {
      "cell_type": "code",
      "metadata": {
        "id": "vfaB3Yn7d-ri"
      },
      "source": [
        "#removing nominal attributes because we have made new  numeric attributes for nominal attributes#\n",
        "df = df.drop(columns={\"Geography\"})\n"
      ],
      "execution_count": null,
      "outputs": []
    },
    {
      "cell_type": "code",
      "metadata": {
        "id": "xWLtY-L8f3Qq"
      },
      "source": [
        "#Performing Min-Max Normalization of attributes (binary attributes \n",
        "#having values 0 or 1 will remain unchanged).#\n",
        "def normalize(df):\n",
        "    result = df.copy()\n",
        "    for feature_name in df.columns:\n",
        "        max_value = df[feature_name].max()\n",
        "        min_value = df[feature_name].min()\n",
        "        result[feature_name] = (df[feature_name] - min_value) / (max_value - min_value)\n",
        "    return result\n",
        "\n",
        "df=normalize(df)"
      ],
      "execution_count": null,
      "outputs": []
    },
    {
      "cell_type": "code",
      "metadata": {
        "colab": {
          "base_uri": "https://localhost:8080/"
        },
        "id": "A7L8LNfXiX4W",
        "outputId": "ad2a7b39-41c4-4e68-ad82-44eef1e535a5"
      },
      "source": [
        "print(df.columns)"
      ],
      "execution_count": null,
      "outputs": [
        {
          "output_type": "stream",
          "name": "stdout",
          "text": [
            "Index(['CreditScore', 'Gender', 'Age', 'Tenure', 'Balance', 'NumOfProducts',\n",
            "       'HasCrCard', 'IsActiveMember', 'EstimatedSalary', 'Exited',\n",
            "       'GeographyFrance', 'GeographySpain', 'GeographyGermany'],\n",
            "      dtype='object')\n"
          ]
        }
      ]
    },
    {
      "cell_type": "code",
      "metadata": {
        "id": "ovzyNo86kCA4"
      },
      "source": [
        "#diving the dataset into train set and test set\n",
        "\n",
        "#permutating the dataset (shuffling)\n",
        "df_permutated = df.sample(frac=1)\n",
        "\n",
        "train_size = 0.8\n",
        "train_end = int(len(df_permutated)*train_size)\n",
        "\n",
        "df_train = df_permutated[:train_end]\n",
        "\n",
        "df_test = df_permutated[train_end:]"
      ],
      "execution_count": null,
      "outputs": []
    },
    {
      "cell_type": "code",
      "metadata": {
        "id": "2SPkweTQkOZB"
      },
      "source": [
        "#separating labels\n",
        "df_train_labels=df_train[\"Exited\"]\n",
        "df_train = df_train.drop(columns=\"Exited\")\n",
        "\n",
        "df_test_labels=df_test[\"Exited\"]\n",
        "df_test = df_test.drop(columns=\"Exited\")\n"
      ],
      "execution_count": null,
      "outputs": []
    },
    {
      "cell_type": "code",
      "metadata": {
        "colab": {
          "base_uri": "https://localhost:8080/"
        },
        "id": "LbwpyI9vkfP_",
        "outputId": "1e8b892c-1ea9-479a-edb7-12001581ea4e"
      },
      "source": [
        "print(df_train.shape)\n",
        "print(df_test.shape)"
      ],
      "execution_count": null,
      "outputs": [
        {
          "output_type": "stream",
          "name": "stdout",
          "text": [
            "(8000, 12)\n",
            "(2000, 12)\n"
          ]
        }
      ]
    },
    {
      "cell_type": "code",
      "metadata": {
        "colab": {
          "base_uri": "https://localhost:8080/"
        },
        "id": "L6STVIwcl-iS",
        "outputId": "b9d30736-0d26-4011-ca00-847d84fb9d5f"
      },
      "source": [
        "#Defining the Neural Network Model for Dataset 1\n",
        "\n",
        "from keras.models import Sequential\n",
        "from keras.layers import Dense, Dropout\n",
        "\n",
        "# define the keras model\n",
        "model = Sequential()\n",
        "model.add(Dense(12, input_dim=df_train.shape[1], activation='relu')) #1st hidden layer having 12 neurons and relu activation function\n",
        "model.add(Dense(8, activation='tanh')) #2nd hidden layer having 8 neurons and tanh activation function\n",
        "model.add(Dense(1, activation='sigmoid')) #the output layer having a single neuron and sigmoid activation function\n",
        "\n",
        "# compile the keras model\n",
        "model.compile(loss='binary_crossentropy', optimizer='adam', metrics=['accuracy'])\n",
        "..."
      ],
      "execution_count": null,
      "outputs": [
        {
          "output_type": "execute_result",
          "data": {
            "text/plain": [
              "Ellipsis"
            ]
          },
          "metadata": {},
          "execution_count": 341
        }
      ]
    },
    {
      "cell_type": "code",
      "metadata": {
        "colab": {
          "base_uri": "https://localhost:8080/"
        },
        "id": "PP5e3jwgmUk4",
        "outputId": "8fd363fb-9ada-4f03-eac8-12c0b538eb99"
      },
      "source": [
        "model.fit(df_train.values, df_train_labels.values, epochs=30, batch_size=32)\n"
      ],
      "execution_count": null,
      "outputs": [
        {
          "output_type": "stream",
          "name": "stdout",
          "text": [
            "Epoch 1/30\n",
            "250/250 [==============================] - 1s 2ms/step - loss: 0.5359 - accuracy: 0.7625\n",
            "Epoch 2/30\n",
            "250/250 [==============================] - 0s 2ms/step - loss: 0.4791 - accuracy: 0.7955\n",
            "Epoch 3/30\n",
            "250/250 [==============================] - 0s 1ms/step - loss: 0.4592 - accuracy: 0.8018\n",
            "Epoch 4/30\n",
            "250/250 [==============================] - 0s 1ms/step - loss: 0.4436 - accuracy: 0.8099\n",
            "Epoch 5/30\n",
            "250/250 [==============================] - 0s 1ms/step - loss: 0.4333 - accuracy: 0.8131\n",
            "Epoch 6/30\n",
            "250/250 [==============================] - 0s 1ms/step - loss: 0.4268 - accuracy: 0.8152\n",
            "Epoch 7/30\n",
            "250/250 [==============================] - 0s 1ms/step - loss: 0.4218 - accuracy: 0.8171\n",
            "Epoch 8/30\n",
            "250/250 [==============================] - 0s 1ms/step - loss: 0.4159 - accuracy: 0.8223\n",
            "Epoch 9/30\n",
            "250/250 [==============================] - 0s 1ms/step - loss: 0.4099 - accuracy: 0.8234\n",
            "Epoch 10/30\n",
            "250/250 [==============================] - 0s 1ms/step - loss: 0.4055 - accuracy: 0.8267\n",
            "Epoch 11/30\n",
            "250/250 [==============================] - 0s 2ms/step - loss: 0.3972 - accuracy: 0.8313\n",
            "Epoch 12/30\n",
            "250/250 [==============================] - 0s 2ms/step - loss: 0.3898 - accuracy: 0.8366\n",
            "Epoch 13/30\n",
            "250/250 [==============================] - 0s 1ms/step - loss: 0.3824 - accuracy: 0.8397\n",
            "Epoch 14/30\n",
            "250/250 [==============================] - 0s 2ms/step - loss: 0.3753 - accuracy: 0.8457\n",
            "Epoch 15/30\n",
            "250/250 [==============================] - 0s 2ms/step - loss: 0.3684 - accuracy: 0.8486\n",
            "Epoch 16/30\n",
            "250/250 [==============================] - 0s 2ms/step - loss: 0.3629 - accuracy: 0.8503\n",
            "Epoch 17/30\n",
            "250/250 [==============================] - 0s 2ms/step - loss: 0.3588 - accuracy: 0.8540\n",
            "Epoch 18/30\n",
            "250/250 [==============================] - 0s 2ms/step - loss: 0.3558 - accuracy: 0.8546\n",
            "Epoch 19/30\n",
            "250/250 [==============================] - 0s 1ms/step - loss: 0.3532 - accuracy: 0.8545\n",
            "Epoch 20/30\n",
            "250/250 [==============================] - 0s 1ms/step - loss: 0.3515 - accuracy: 0.8554\n",
            "Epoch 21/30\n",
            "250/250 [==============================] - 0s 1ms/step - loss: 0.3501 - accuracy: 0.8547\n",
            "Epoch 22/30\n",
            "250/250 [==============================] - 0s 2ms/step - loss: 0.3492 - accuracy: 0.8562\n",
            "Epoch 23/30\n",
            "250/250 [==============================] - 0s 2ms/step - loss: 0.3477 - accuracy: 0.8577\n",
            "Epoch 24/30\n",
            "250/250 [==============================] - 0s 1ms/step - loss: 0.3471 - accuracy: 0.8581\n",
            "Epoch 25/30\n",
            "250/250 [==============================] - 0s 1ms/step - loss: 0.3456 - accuracy: 0.8569\n",
            "Epoch 26/30\n",
            "250/250 [==============================] - 0s 1ms/step - loss: 0.3455 - accuracy: 0.8562\n",
            "Epoch 27/30\n",
            "250/250 [==============================] - 0s 1ms/step - loss: 0.3447 - accuracy: 0.8577\n",
            "Epoch 28/30\n",
            "250/250 [==============================] - 0s 2ms/step - loss: 0.3435 - accuracy: 0.8585\n",
            "Epoch 29/30\n",
            "250/250 [==============================] - 0s 1ms/step - loss: 0.3422 - accuracy: 0.8602\n",
            "Epoch 30/30\n",
            "250/250 [==============================] - 0s 2ms/step - loss: 0.3431 - accuracy: 0.8575\n"
          ]
        },
        {
          "output_type": "execute_result",
          "data": {
            "text/plain": [
              "<keras.callbacks.History at 0x7fa32cd5c5d0>"
            ]
          },
          "metadata": {},
          "execution_count": 342
        }
      ]
    },
    {
      "cell_type": "code",
      "metadata": {
        "colab": {
          "base_uri": "https://localhost:8080/"
        },
        "id": "kjGDHINam7WQ",
        "outputId": "0903ecb8-97f7-41e6-857e-aecf5a81ab90"
      },
      "source": [
        "#Evaluating the Model\n",
        "\n",
        "# evaluate the keras model\n",
        "_, accuracy = model.evaluate(df_test.values, df_test_labels.values)\n",
        "print('Accuracy: %.2f' % (accuracy*100))"
      ],
      "execution_count": null,
      "outputs": [
        {
          "output_type": "stream",
          "name": "stdout",
          "text": [
            "63/63 [==============================] - 0s 1ms/step - loss: 0.3408 - accuracy: 0.8610\n",
            "Accuracy: 86.10\n"
          ]
        }
      ]
    }
  ]
}